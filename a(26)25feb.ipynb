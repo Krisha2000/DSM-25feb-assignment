{
 "cells": [
  {
   "cell_type": "code",
   "execution_count": 1,
   "id": "4f384a77-fe23-40c6-9045-4364290c9435",
   "metadata": {},
   "outputs": [],
   "source": [
    "import pandas as pd\n",
    "course_name =['Data Science', 'Machine Learning', 'Big Data', 'Data Engineer']\n",
    "duration = [2,3,6,4]\n",
    "df = pd.DataFrame(data = {'course_name' : course_name, 'duration' : duration})"
   ]
  },
  {
   "cell_type": "code",
   "execution_count": 2,
   "id": "28a04006-d49c-4204-9dc7-ee6bb0c832c7",
   "metadata": {},
   "outputs": [
    {
     "data": {
      "text/html": [
       "<div>\n",
       "<style scoped>\n",
       "    .dataframe tbody tr th:only-of-type {\n",
       "        vertical-align: middle;\n",
       "    }\n",
       "\n",
       "    .dataframe tbody tr th {\n",
       "        vertical-align: top;\n",
       "    }\n",
       "\n",
       "    .dataframe thead th {\n",
       "        text-align: right;\n",
       "    }\n",
       "</style>\n",
       "<table border=\"1\" class=\"dataframe\">\n",
       "  <thead>\n",
       "    <tr style=\"text-align: right;\">\n",
       "      <th></th>\n",
       "      <th>course_name</th>\n",
       "      <th>duration</th>\n",
       "    </tr>\n",
       "  </thead>\n",
       "  <tbody>\n",
       "    <tr>\n",
       "      <th>0</th>\n",
       "      <td>Data Science</td>\n",
       "      <td>2</td>\n",
       "    </tr>\n",
       "    <tr>\n",
       "      <th>1</th>\n",
       "      <td>Machine Learning</td>\n",
       "      <td>3</td>\n",
       "    </tr>\n",
       "    <tr>\n",
       "      <th>2</th>\n",
       "      <td>Big Data</td>\n",
       "      <td>6</td>\n",
       "    </tr>\n",
       "    <tr>\n",
       "      <th>3</th>\n",
       "      <td>Data Engineer</td>\n",
       "      <td>4</td>\n",
       "    </tr>\n",
       "  </tbody>\n",
       "</table>\n",
       "</div>"
      ],
      "text/plain": [
       "        course_name  duration\n",
       "0      Data Science         2\n",
       "1  Machine Learning         3\n",
       "2          Big Data         6\n",
       "3     Data Engineer         4"
      ]
     },
     "execution_count": 2,
     "metadata": {},
     "output_type": "execute_result"
    }
   ],
   "source": [
    "df"
   ]
  },
  {
   "cell_type": "markdown",
   "id": "d7b72b8b-7423-4582-9fe5-38dc9f7b0241",
   "metadata": {},
   "source": [
    "# Quetion : 1"
   ]
  },
  {
   "cell_type": "code",
   "execution_count": 3,
   "id": "9eff7cd4-fef2-414d-a349-db430b3d9975",
   "metadata": {},
   "outputs": [
    {
     "name": "stdout",
     "output_type": "stream",
     "text": [
      "course_name    Machine Learning\n",
      "duration                      3\n",
      "Name: 1, dtype: object\n"
     ]
    }
   ],
   "source": [
    "print(df.iloc[1])"
   ]
  },
  {
   "cell_type": "markdown",
   "id": "439a6185-9979-4524-8689-d45a9c8e72fb",
   "metadata": {},
   "source": [
    "# Quetion : 2"
   ]
  },
  {
   "cell_type": "markdown",
   "id": "cb2fa003-bbac-40bc-96e1-c8fdcdf3acf6",
   "metadata": {},
   "source": [
    " the key difference between loc and iloc is the way they index data: iloc uses numerical indices while loc uses labels."
   ]
  },
  {
   "cell_type": "markdown",
   "id": "9c392e4e-ebcf-4e14-8590-0096a76710b6",
   "metadata": {},
   "source": [
    "# Quetion : 3"
   ]
  },
  {
   "cell_type": "code",
   "execution_count": 4,
   "id": "e244ae96-6e5d-438d-beb1-3c96244323af",
   "metadata": {},
   "outputs": [],
   "source": [
    "new_df=df.reindex([3,0,1,2])"
   ]
  },
  {
   "cell_type": "code",
   "execution_count": 5,
   "id": "1f330426-d8e0-4c39-84b4-556345834113",
   "metadata": {},
   "outputs": [
    {
     "data": {
      "text/html": [
       "<div>\n",
       "<style scoped>\n",
       "    .dataframe tbody tr th:only-of-type {\n",
       "        vertical-align: middle;\n",
       "    }\n",
       "\n",
       "    .dataframe tbody tr th {\n",
       "        vertical-align: top;\n",
       "    }\n",
       "\n",
       "    .dataframe thead th {\n",
       "        text-align: right;\n",
       "    }\n",
       "</style>\n",
       "<table border=\"1\" class=\"dataframe\">\n",
       "  <thead>\n",
       "    <tr style=\"text-align: right;\">\n",
       "      <th></th>\n",
       "      <th>course_name</th>\n",
       "      <th>duration</th>\n",
       "    </tr>\n",
       "  </thead>\n",
       "  <tbody>\n",
       "    <tr>\n",
       "      <th>3</th>\n",
       "      <td>Data Engineer</td>\n",
       "      <td>4</td>\n",
       "    </tr>\n",
       "    <tr>\n",
       "      <th>0</th>\n",
       "      <td>Data Science</td>\n",
       "      <td>2</td>\n",
       "    </tr>\n",
       "    <tr>\n",
       "      <th>1</th>\n",
       "      <td>Machine Learning</td>\n",
       "      <td>3</td>\n",
       "    </tr>\n",
       "    <tr>\n",
       "      <th>2</th>\n",
       "      <td>Big Data</td>\n",
       "      <td>6</td>\n",
       "    </tr>\n",
       "  </tbody>\n",
       "</table>\n",
       "</div>"
      ],
      "text/plain": [
       "        course_name  duration\n",
       "3     Data Engineer         4\n",
       "0      Data Science         2\n",
       "1  Machine Learning         3\n",
       "2          Big Data         6"
      ]
     },
     "execution_count": 5,
     "metadata": {},
     "output_type": "execute_result"
    }
   ],
   "source": [
    "new_df"
   ]
  },
  {
   "cell_type": "code",
   "execution_count": 6,
   "id": "c99020d3-723b-42e1-8fdf-5f6196b9cf57",
   "metadata": {},
   "outputs": [
    {
     "name": "stdout",
     "output_type": "stream",
     "text": [
      "course_name    Big Data\n",
      "duration              6\n",
      "Name: 2, dtype: object\n",
      "course_name    Machine Learning\n",
      "duration                      3\n",
      "Name: 1, dtype: object\n"
     ]
    }
   ],
   "source": [
    "print(df.iloc[2])\n",
    "print(new_df.iloc[2])"
   ]
  },
  {
   "cell_type": "markdown",
   "id": "d2a9458e-4d5e-4dae-8b94-40d6bb865e0f",
   "metadata": {},
   "source": [
    "the row with label 2 in the original DataFrame has been moved to the third position in the new DataFrame based on the order specified in new_index. Therefore, new_df.loc[2] returns the row with label 1 in the original DataFrame (which corresponds to the 'Big Data' course), while new_df.iloc[2] returns the row with the third position in the new DataFrame (which corresponds to the 'Machine Learning' course)."
   ]
  },
  {
   "cell_type": "markdown",
   "id": "d8f23853-9000-4075-ba07-4daffbfe0e28",
   "metadata": {},
   "source": [
    "# Quetion : 4"
   ]
  },
  {
   "cell_type": "code",
   "execution_count": 7,
   "id": "dc31a209-679a-402d-a187-9f53059c439f",
   "metadata": {},
   "outputs": [],
   "source": [
    "import pandas as pd\n",
    "import numpy as np\n",
    "columns = ['column_1', 'column_2', 'column_3', 'column_4', 'column_5', 'column_6']\n",
    "indices = [1,2,3,4,5,6]\n",
    "#Creating a dataframe:\n",
    "df1 = pd.DataFrame(np.random.rand(6,6), columns = columns, index = indices)"
   ]
  },
  {
   "cell_type": "code",
   "execution_count": 8,
   "id": "2871fe8c-fbfc-462f-b73b-0531f9a71847",
   "metadata": {},
   "outputs": [
    {
     "data": {
      "text/html": [
       "<div>\n",
       "<style scoped>\n",
       "    .dataframe tbody tr th:only-of-type {\n",
       "        vertical-align: middle;\n",
       "    }\n",
       "\n",
       "    .dataframe tbody tr th {\n",
       "        vertical-align: top;\n",
       "    }\n",
       "\n",
       "    .dataframe thead th {\n",
       "        text-align: right;\n",
       "    }\n",
       "</style>\n",
       "<table border=\"1\" class=\"dataframe\">\n",
       "  <thead>\n",
       "    <tr style=\"text-align: right;\">\n",
       "      <th></th>\n",
       "      <th>column_1</th>\n",
       "      <th>column_2</th>\n",
       "      <th>column_3</th>\n",
       "      <th>column_4</th>\n",
       "      <th>column_5</th>\n",
       "      <th>column_6</th>\n",
       "    </tr>\n",
       "  </thead>\n",
       "  <tbody>\n",
       "    <tr>\n",
       "      <th>1</th>\n",
       "      <td>0.932311</td>\n",
       "      <td>0.686034</td>\n",
       "      <td>0.210754</td>\n",
       "      <td>0.178894</td>\n",
       "      <td>0.813118</td>\n",
       "      <td>0.597944</td>\n",
       "    </tr>\n",
       "    <tr>\n",
       "      <th>2</th>\n",
       "      <td>0.202458</td>\n",
       "      <td>0.808372</td>\n",
       "      <td>0.814593</td>\n",
       "      <td>0.976824</td>\n",
       "      <td>0.832286</td>\n",
       "      <td>0.473973</td>\n",
       "    </tr>\n",
       "    <tr>\n",
       "      <th>3</th>\n",
       "      <td>0.673077</td>\n",
       "      <td>0.803528</td>\n",
       "      <td>0.091464</td>\n",
       "      <td>0.591125</td>\n",
       "      <td>0.649797</td>\n",
       "      <td>0.120786</td>\n",
       "    </tr>\n",
       "    <tr>\n",
       "      <th>4</th>\n",
       "      <td>0.690819</td>\n",
       "      <td>0.185978</td>\n",
       "      <td>0.020118</td>\n",
       "      <td>0.054651</td>\n",
       "      <td>0.106860</td>\n",
       "      <td>0.891596</td>\n",
       "    </tr>\n",
       "    <tr>\n",
       "      <th>5</th>\n",
       "      <td>0.117991</td>\n",
       "      <td>0.752453</td>\n",
       "      <td>0.283662</td>\n",
       "      <td>0.414759</td>\n",
       "      <td>0.152160</td>\n",
       "      <td>0.725569</td>\n",
       "    </tr>\n",
       "    <tr>\n",
       "      <th>6</th>\n",
       "      <td>0.800639</td>\n",
       "      <td>0.003141</td>\n",
       "      <td>0.330844</td>\n",
       "      <td>0.331345</td>\n",
       "      <td>0.188754</td>\n",
       "      <td>0.668808</td>\n",
       "    </tr>\n",
       "  </tbody>\n",
       "</table>\n",
       "</div>"
      ],
      "text/plain": [
       "   column_1  column_2  column_3  column_4  column_5  column_6\n",
       "1  0.932311  0.686034  0.210754  0.178894  0.813118  0.597944\n",
       "2  0.202458  0.808372  0.814593  0.976824  0.832286  0.473973\n",
       "3  0.673077  0.803528  0.091464  0.591125  0.649797  0.120786\n",
       "4  0.690819  0.185978  0.020118  0.054651  0.106860  0.891596\n",
       "5  0.117991  0.752453  0.283662  0.414759  0.152160  0.725569\n",
       "6  0.800639  0.003141  0.330844  0.331345  0.188754  0.668808"
      ]
     },
     "execution_count": 8,
     "metadata": {},
     "output_type": "execute_result"
    }
   ],
   "source": [
    "df1"
   ]
  },
  {
   "cell_type": "code",
   "execution_count": 9,
   "id": "12f36d6c-7350-47e1-a5ed-26ea24679a3a",
   "metadata": {},
   "outputs": [
    {
     "data": {
      "text/plain": [
       "column_1    0.569549\n",
       "column_2    0.539918\n",
       "column_3    0.291906\n",
       "column_4    0.424600\n",
       "column_5    0.457162\n",
       "column_6    0.579779\n",
       "dtype: float64"
      ]
     },
     "execution_count": 9,
     "metadata": {},
     "output_type": "execute_result"
    }
   ],
   "source": [
    "df1.mean()"
   ]
  },
  {
   "cell_type": "code",
   "execution_count": 10,
   "id": "e3703934-c3a5-4a0f-98c5-b8f018aa57fa",
   "metadata": {},
   "outputs": [
    {
     "data": {
      "text/plain": [
       "0.35255677885330106"
      ]
     },
     "execution_count": 10,
     "metadata": {},
     "output_type": "execute_result"
    }
   ],
   "source": [
    "df1['column_2'].std()"
   ]
  },
  {
   "cell_type": "markdown",
   "id": "4e06055f-dfd2-4d17-a6ff-10cdc73f499d",
   "metadata": {
    "tags": []
   },
   "source": [
    "# Quetion : 5"
   ]
  },
  {
   "cell_type": "code",
   "execution_count": 11,
   "id": "ec402a14-da3f-4dd1-836f-c78551966681",
   "metadata": {},
   "outputs": [],
   "source": [
    "df1.loc[2,'column_2']=5"
   ]
  },
  {
   "cell_type": "code",
   "execution_count": 12,
   "id": "a7dd4a3b-39d6-44bd-a970-8b85c4974e3e",
   "metadata": {},
   "outputs": [
    {
     "data": {
      "text/plain": [
       "1.2385224662500665"
      ]
     },
     "execution_count": 12,
     "metadata": {},
     "output_type": "execute_result"
    }
   ],
   "source": [
    "df1[\"column_2\"].mean()"
   ]
  },
  {
   "cell_type": "markdown",
   "id": "f201f856-0999-472e-9db6-b7d4056632aa",
   "metadata": {},
   "source": [
    "# Queion : 6"
   ]
  },
  {
   "cell_type": "markdown",
   "id": "b3570e4b-6e86-435a-ab8c-f0699816750c",
   "metadata": {},
   "source": [
    "In pandas, the term \"window\" refers to a fixed-size moving subset of a DataFrame or a Series, which can be used to perform various operations on the data within that window. Window functions allow us to apply a function to a subset of the data based on a sliding window, rather than applying it to the entire data at once. Window functions are commonly used in time series data analysis and signal processing."
   ]
  },
  {
   "cell_type": "markdown",
   "id": "f530f1af-2842-40c7-981e-669ed690b3a1",
   "metadata": {},
   "source": [
    "# Quetion : 7"
   ]
  },
  {
   "cell_type": "code",
   "execution_count": 13,
   "id": "85bf390f-7a2f-4547-b373-c9432c6ce212",
   "metadata": {},
   "outputs": [],
   "source": [
    "import datetime\n",
    "now=datetime.datetime.now()\n"
   ]
  },
  {
   "cell_type": "code",
   "execution_count": 14,
   "id": "da7c0ea8-e5a0-45af-b7c2-250423930c5b",
   "metadata": {},
   "outputs": [
    {
     "name": "stdout",
     "output_type": "stream",
     "text": [
      "2023-04-17 03:31:33.797307\n"
     ]
    }
   ],
   "source": [
    "print(now)\n"
   ]
  },
  {
   "cell_type": "markdown",
   "id": "a4afc87f-287d-444a-89e1-ddc4280ea123",
   "metadata": {},
   "source": [
    "# Quetion : 8"
   ]
  },
  {
   "cell_type": "code",
   "execution_count": 15,
   "id": "f498ac8f-6427-496d-b862-37f654cdc411",
   "metadata": {},
   "outputs": [
    {
     "name": "stdin",
     "output_type": "stream",
     "text": [
      "enter the date in YYYY-MM-DD form :  2022-02-03\n",
      "enter the date in YYYY-MM-DD form :  2022-03-02\n"
     ]
    },
    {
     "name": "stdout",
     "output_type": "stream",
     "text": [
      "Time difference between 2022-02-03 and 2022-03-02 :\n",
      "27 days 0 hours 0 minutes\n"
     ]
    }
   ],
   "source": [
    "date1=input(\"enter the date in YYYY-MM-DD form : \")\n",
    "\n",
    "date2=input(\"enter the date in YYYY-MM-DD form : \")\n",
    "\n",
    "date1_dt = pd.to_datetime(date1)\n",
    "date2_dt = pd.to_datetime(date2)\n",
    "time_diff = date2_dt - date1_dt\n",
    "days_diff = time_diff.days\n",
    "hours_diff = time_diff.seconds // 3600\n",
    "minutes_diff = (time_diff.seconds // 60) % 60\n",
    "print(\"Time difference between\", date1, \"and\", date2, \":\")\n",
    "print(days_diff, \"days\", hours_diff, \"hours\", minutes_diff, \"minutes\")"
   ]
  },
  {
   "cell_type": "markdown",
   "id": "c49b5fc9-d4f7-49ed-9c0b-88f3218b0f9e",
   "metadata": {},
   "source": [
    "# Quetion : 9"
   ]
  },
  {
   "cell_type": "code",
   "execution_count": 16,
   "id": "a94c956f-296e-4688-95fa-81095dbc6e05",
   "metadata": {},
   "outputs": [],
   "source": [
    "import pandas as pd\n",
    "def catagory():\n",
    "    file_path=input(\"enter file path  ; \")\n",
    "    col_name=input(\"enter column name  : \")\n",
    "    cat_order=input(\"enter categoricle order ; \")\n",
    "    cat_order=cat_order.split(\",\")\n",
    "    df=pd.read_csv(file_path)\n",
    "    df['col_name']=pd.Categorical(df['col_name'],catagories=cat_order,ordered=True)\n",
    "    df=df.sort_values(by=[col_name])\n",
    "    print(df)\n",
    "\n"
   ]
  },
  {
   "cell_type": "markdown",
   "id": "ab6f85f1-6ce6-4911-bb5c-2339f3a15ad2",
   "metadata": {},
   "source": [
    "# Quetion : 10"
   ]
  },
  {
   "cell_type": "code",
   "execution_count": 17,
   "id": "2dbb9a74-22d6-404d-be90-4b849bd18065",
   "metadata": {},
   "outputs": [],
   "source": [
    "import matplotlib.pyplot as plt\n",
    "def chart():\n",
    "    file_path=input(\"enter file path  : \")\n",
    "    df=pd.read_csv(file_path)\n",
    "    df_grouped=df.groupby(['product_name','year'])['sales'].sum()\n",
    "    df_unstacked=df_grouped.unstack(level=0)\n",
    "    df_unstacked.plot(kind='bar',stackedd=True)\n",
    "    \n",
    "    plt.xlabel('year')\n",
    "    plt.ylabel('sales')\n",
    "    plt.show()\n",
    "    \n",
    "    "
   ]
  },
  {
   "cell_type": "code",
   "execution_count": 18,
   "id": "c41b63df-58ab-401d-9883-f6cafe53c8d1",
   "metadata": {},
   "outputs": [
    {
     "data": {
      "image/png": "[encoded data removed]",
      "text/plain": [
       "<Figure size 640x480 with 1 Axes>"
      ]
     },
     "metadata": {},
     "output_type": "display_data"
    }
   ],
   "source": [
    "#example\n",
    "import pandas as pd\n",
    "import matplotlib.pyplot as plt\n",
    "\n",
    "data = {'product_name': ['a', 'b', 'c', 'd'], 'year': [2022, 2002, 2003, 2004], 'sales': [100, 200, 150, 250]}\n",
    "df = pd.DataFrame(data)\n",
    "\n",
    "df_grouped = df.groupby(['product_name', 'year'])['sales'].sum()\n",
    "df_unstacked = df_grouped.unstack(level=0)\n",
    "\n",
    "df_unstacked.plot(kind='bar', stacked=True)\n",
    "\n",
    "plt.xlabel('year')\n",
    "plt.ylabel('sales')\n",
    "plt.show()\n"
   ]
  },
  {
   "cell_type": "markdown",
   "id": "865ed8b8-c084-490a-b295-6e72947371bd",
   "metadata": {},
   "source": [
    "# Quetion : 11"
   ]
  },
  {
   "cell_type": "code",
   "execution_count": 19,
   "id": "f28e5973-2015-49a3-96f2-44de278b7ed4",
   "metadata": {},
   "outputs": [],
   "source": [
    "def student():\n",
    "    file_path=input(\"enter file path  : \")\n",
    "    df=pd.read_csv(file_path)\n",
    "    mean=df['score'].mean()\n",
    "    median=df['score'].median()\n",
    "    mode=df['score'].modede()\n",
    "    df1={'mean':[mean],'mode':[mode],'median':[median]}\n",
    "    return df1"
   ]
  },
  {
   "cell_type": "code",
   "execution_count": 25,
   "id": "af72b7e1-b039-460d-91e4-0237bf6d5349",
   "metadata": {},
   "outputs": [
    {
     "data": {
      "text/html": [
       "<div>\n",
       "<style scoped>\n",
       "    .dataframe tbody tr th:only-of-type {\n",
       "        vertical-align: middle;\n",
       "    }\n",
       "\n",
       "    .dataframe tbody tr th {\n",
       "        vertical-align: top;\n",
       "    }\n",
       "\n",
       "    .dataframe thead th {\n",
       "        text-align: right;\n",
       "    }\n",
       "</style>\n",
       "<table border=\"1\" class=\"dataframe\">\n",
       "  <thead>\n",
       "    <tr style=\"text-align: right;\">\n",
       "      <th></th>\n",
       "      <th>Statistic</th>\n",
       "      <th>Value</th>\n",
       "    </tr>\n",
       "  </thead>\n",
       "  <tbody>\n",
       "    <tr>\n",
       "      <th>0</th>\n",
       "      <td>Mean</td>\n",
       "      <td>80.8</td>\n",
       "    </tr>\n",
       "    <tr>\n",
       "      <th>1</th>\n",
       "      <td>Median</td>\n",
       "      <td>83.5</td>\n",
       "    </tr>\n",
       "    <tr>\n",
       "      <th>2</th>\n",
       "      <td>Mode</td>\n",
       "      <td>0    85\n",
       "Name: Test Score, dtype: int64</td>\n",
       "    </tr>\n",
       "  </tbody>\n",
       "</table>\n",
       "</div>"
      ],
      "text/plain": [
       "  Statistic                                   Value\n",
       "0      Mean                                    80.8\n",
       "1    Median                                    83.5\n",
       "2      Mode  0    85\n",
       "Name: Test Score, dtype: int64"
      ]
     },
     "execution_count": 25,
     "metadata": {},
     "output_type": "execute_result"
    }
   ],
   "source": [
    "data={'student id':[1,2,3,4,5,6,7,8,9,10],'Test Score':[58,90,80,75,85,82,78,85,90,85]}\n",
    "df=pd.DataFrame(data)\n",
    "mean=df['Test Score'].mean()\n",
    "median=df['Test Score'].median()\n",
    "mode=df['Test Score'].mode()\n",
    "df1 = pd.DataFrame({'Statistic': ['Mean', 'Median', 'Mode'], 'Value': [mean, median, mode]})\n",
    "df1"
   ]
  },
  {
   "cell_type": "code",
   "execution_count": null,
   "id": "fea2acc1-81d1-464a-af17-d52282707b18",
   "metadata": {},
   "outputs": [],
   "source": []
  }
 ],
 "metadata": {
  "kernelspec": {
   "display_name": "Python 3 (ipykernel)",
   "language": "python",
   "name": "python3"
  },
  "language_info": {
   "codemirror_mode": {
    "name": "ipython",
    "version": 3
   },
   "file_extension": ".py",
   "mimetype": "text/x-python",
   "name": "python",
   "nbconvert_exporter": "python",
   "pygments_lexer": "ipython3",
   "version": "3.10.8"
  }
 },
 "nbformat": 4,
 "nbformat_minor": 5
}
